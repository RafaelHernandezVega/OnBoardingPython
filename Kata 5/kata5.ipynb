{
 "cells": [
  {
   "cell_type": "code",
   "execution_count": 5,
   "metadata": {},
   "outputs": [],
   "source": [
    "planeta1 = 149597870\n",
    "planeta2 = 778547200"
   ]
  },
  {
   "cell_type": "code",
   "execution_count": 16,
   "metadata": {},
   "outputs": [
    {
     "name": "stdout",
     "output_type": "stream",
     "text": [
      "628949330\n",
      "390577533.93\n"
     ]
    }
   ],
   "source": [
    "distancia = (planeta2 - planeta1)\n",
    "print(distancia)\n",
    "\n",
    "distancia_millas = distancia * 0.621\n",
    "print(distancia_millas)\n"
   ]
  },
  {
   "cell_type": "code",
   "execution_count": 17,
   "metadata": {},
   "outputs": [],
   "source": [
    "planeta_1 = input('Distancia del sol al primer planeta en Km')\n",
    "planeta_2 = input('Distancia del sol al segundo planeta en Km')"
   ]
  },
  {
   "cell_type": "code",
   "execution_count": 18,
   "metadata": {},
   "outputs": [],
   "source": [
    "planeta_1 = int(planeta_1)\n",
    "planeta_2 = int(planeta_2)"
   ]
  },
  {
   "cell_type": "code",
   "execution_count": 19,
   "metadata": {},
   "outputs": [
    {
     "name": "stdout",
     "output_type": "stream",
     "text": [
      "50300000\n",
      "30683000.0\n"
     ]
    }
   ],
   "source": [
    "dist = abs(planeta_1 - planeta_2)\n",
    "print(dist)\n",
    "\n",
    "dist_milla = dist * 0.61\n",
    "print(dist_milla)"
   ]
  }
 ],
 "metadata": {
  "interpreter": {
   "hash": "4de5406e596570706e9cd75c625f856dfb832ae1205d9a4671b0347b65ea86fe"
  },
  "kernelspec": {
   "display_name": "Python 3.8.8 ('base')",
   "language": "python",
   "name": "python3"
  },
  "language_info": {
   "codemirror_mode": {
    "name": "ipython",
    "version": 3
   },
   "file_extension": ".py",
   "mimetype": "text/x-python",
   "name": "python",
   "nbconvert_exporter": "python",
   "pygments_lexer": "ipython3",
   "version": "3.8.8"
  },
  "orig_nbformat": 4
 },
 "nbformat": 4,
 "nbformat_minor": 2
}
