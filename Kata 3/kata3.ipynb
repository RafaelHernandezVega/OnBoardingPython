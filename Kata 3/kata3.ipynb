{
 "cells": [
  {
   "cell_type": "code",
   "execution_count": 1,
   "metadata": {},
   "outputs": [
    {
     "name": "stdout",
     "output_type": "stream",
     "text": [
      "¡Alerta de asteroide acercandose!\n"
     ]
    }
   ],
   "source": [
    "asteroide = 49\n",
    "if asteroide > 25:\n",
    "    print('¡Alerta de asteroide acercandose!')\n",
    "else:\n",
    "    print('Sin novedad')"
   ]
  },
  {
   "cell_type": "code",
   "execution_count": 2,
   "metadata": {},
   "outputs": [
    {
     "name": "stdout",
     "output_type": "stream",
     "text": [
      "Sin novedad!\n"
     ]
    }
   ],
   "source": [
    "asteroide = 19\n",
    "if asteroide > 20:\n",
    "    print(\"Rayo de luz en el cielo!\")\n",
    "elif asteroide == 20:\n",
    "    print(\"Rayo de luz en el cielo!\")\n",
    "else:\n",
    "    print(\"Sin novedad!\")\n"
   ]
  },
  {
   "cell_type": "code",
   "execution_count": 1,
   "metadata": {},
   "outputs": [
    {
     "name": "stdout",
     "output_type": "stream",
     "text": [
      "Sin novedad!\n"
     ]
    }
   ],
   "source": [
    "velocidad = 25\n",
    "asteroide = 40\n",
    "if asteroide > 25 and velocidad > 25:\n",
    "    print(\"Asteroide acercandose a la Tierra!\")\n",
    "elif velocidad < 25:\n",
    "    print(\"Rayo de luz en el cielo!\")\n",
    "elif asteroide < 25:\n",
    "    print(\"Sin novedad!\")\n",
    "else:\n",
    "    print(\"Sin novedad!\")"
   ]
  }
 ],
 "metadata": {
  "interpreter": {
   "hash": "4de5406e596570706e9cd75c625f856dfb832ae1205d9a4671b0347b65ea86fe"
  },
  "kernelspec": {
   "display_name": "Python 3.8.8 ('base')",
   "language": "python",
   "name": "python3"
  },
  "language_info": {
   "codemirror_mode": {
    "name": "ipython",
    "version": 3
   },
   "file_extension": ".py",
   "mimetype": "text/x-python",
   "name": "python",
   "nbconvert_exporter": "python",
   "pygments_lexer": "ipython3",
   "version": "3.8.8"
  },
  "orig_nbformat": 4
 },
 "nbformat": 4,
 "nbformat_minor": 2
}
