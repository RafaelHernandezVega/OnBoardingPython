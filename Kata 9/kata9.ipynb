{
 "cells": [
  {
   "cell_type": "markdown",
   "metadata": {},
   "source": [
    "#Ejercicio 1"
   ]
  },
  {
   "cell_type": "code",
   "execution_count": 2,
   "metadata": {},
   "outputs": [],
   "source": [
    "def gen_reporte (tanque1, tanque2, tanque3):\n",
    "    prm_total = (tanque1 + tanque2 + tanque3)/3\n",
    "    return f\"\"\"Reporte:\n",
    "    Promedio Total: {prm_total}%\n",
    "    Tanque 1: {tanque1}% \n",
    "    Tanque 2: {tanque2}%\n",
    "    Tanque 3: {tanque3}%\n",
    "    \"\"\""
   ]
  },
  {
   "cell_type": "code",
   "execution_count": 4,
   "metadata": {},
   "outputs": [
    {
     "name": "stdout",
     "output_type": "stream",
     "text": [
      "Reporte:\n",
      "    Promedio Total: 78.33333333333333%\n",
      "    Tanque 1: 80% \n",
      "    Tanque 2: 70%\n",
      "    Tanque 3: 85%\n",
      "    \n"
     ]
    }
   ],
   "source": [
    "print(gen_reporte(80, 70, 85))"
   ]
  },
  {
   "cell_type": "code",
   "execution_count": 8,
   "metadata": {},
   "outputs": [
    {
     "data": {
      "text/plain": [
       "78.0"
      ]
     },
     "execution_count": 8,
     "metadata": {},
     "output_type": "execute_result"
    }
   ],
   "source": [
    "def promedio_total (valores):\n",
    "    total = sum(valores)\n",
    "    num_items = len(valores)\n",
    "    return total/num_items\n",
    "\n",
    "promedio_total([88, 76, 70])"
   ]
  },
  {
   "cell_type": "code",
   "execution_count": 10,
   "metadata": {},
   "outputs": [
    {
     "name": "stdout",
     "output_type": "stream",
     "text": [
      "Reporte:\n",
      "    Promedio Total: 78.0%\n",
      "    Tanque 1: 88% \n",
      "    Tanque 2: 76%\n",
      "    Tanque 3: 70%\n",
      "    \n"
     ]
    }
   ],
   "source": [
    "def gen_reporte (tanque1, tanque2, tanque3):\n",
    "    return f\"\"\"Reporte:\n",
    "    Promedio Total: {promedio_total([tanque1, tanque2, tanque3])}%\n",
    "    Tanque 1: {tanque1}% \n",
    "    Tanque 2: {tanque2}%\n",
    "    Tanque 3: {tanque3}%\n",
    "    \"\"\"\n",
    "print(gen_reporte(88, 76, 70))"
   ]
  },
  {
   "cell_type": "markdown",
   "metadata": {},
   "source": [
    "#Ejercicio 2"
   ]
  },
  {
   "cell_type": "code",
   "execution_count": 11,
   "metadata": {},
   "outputs": [
    {
     "name": "stdout",
     "output_type": "stream",
     "text": [
      "\n",
      "    Misión a Moon\n",
      "    Tiempo total de viaje: 65 minutos\n",
      "    Total de combustible: 500000 galones\n",
      "    \n"
     ]
    }
   ],
   "source": [
    "def repo_lanzamiento (pre_lanzamineto, tiempo_vuelo, destino, ext_tanque, int_tanque):\n",
    "    return f\"\"\"\n",
    "    Misión a {destino}\n",
    "    Tiempo total de viaje: {pre_lanzamineto + tiempo_vuelo} minutos\n",
    "    Total de combustible: {ext_tanque + int_tanque} galones\n",
    "    \"\"\"\n",
    "\n",
    "print(repo_lanzamiento(14, 51, \"Moon\", 200000, 300000))"
   ]
  },
  {
   "cell_type": "code",
   "execution_count": 12,
   "metadata": {},
   "outputs": [
    {
     "name": "stdout",
     "output_type": "stream",
     "text": [
      "\n",
      "    Misión a Moon\n",
      "    Tiempo total de viaje: 76 minutos\n",
      "    Total de combustible: 500000 galones\n",
      "    \n"
     ]
    }
   ],
   "source": [
    "def repo_lanzamiento (destino, *minutos, **res_combustible):\n",
    "    return f\"\"\"\n",
    "    Misión a {destino}\n",
    "    Tiempo total de viaje: {sum(minutos)} minutos\n",
    "    Total de combustible: {sum(res_combustible.values())} galones\n",
    "    \"\"\"\n",
    "\n",
    "print(repo_lanzamiento(\"Moon\", 10, 15, 51, principal=300000, externo=200000))"
   ]
  },
  {
   "cell_type": "code",
   "execution_count": 15,
   "metadata": {},
   "outputs": [
    {
     "name": "stdout",
     "output_type": "stream",
     "text": [
      "\n",
      "    Misión a Moon\n",
      "    Tiempo total de viaje: 74 minutos\n",
      "    Total de combustible: 500000\n",
      "    principal tanque --> 300000 galones restantesexterno tanque --> 200000 galones restantes\n"
     ]
    }
   ],
   "source": [
    "def repo_lanzamiento (destino, *minutos, **res_combustible):\n",
    "    reporte = f\"\"\"\n",
    "    Misión a {destino}\n",
    "    Tiempo total de viaje: {sum(minutos)} minutos\n",
    "    Total de combustible: {sum(res_combustible.values())}\n",
    "    \"\"\"\n",
    "    for nom_tanque, galones in res_combustible.items():\n",
    "        reporte += f'{nom_tanque} tanque --> {galones} galones restantes'\n",
    "    return reporte\n",
    "\n",
    "print(repo_lanzamiento(\"Moon\", 8, 11, 55, principal=300000, externo=200000))\n",
    "\n"
   ]
  }
 ],
 "metadata": {
  "interpreter": {
   "hash": "38fb7bc6a569543a33c4edd7428b0fb3c3a8c0467629842f0a17eaff6edc534f"
  },
  "kernelspec": {
   "display_name": "Python 3.10.2 64-bit (windows store)",
   "language": "python",
   "name": "python3"
  },
  "language_info": {
   "codemirror_mode": {
    "name": "ipython",
    "version": 3
   },
   "file_extension": ".py",
   "mimetype": "text/x-python",
   "name": "python",
   "nbconvert_exporter": "python",
   "pygments_lexer": "ipython3",
   "version": "3.10.2"
  },
  "orig_nbformat": 4
 },
 "nbformat": 4,
 "nbformat_minor": 2
}
